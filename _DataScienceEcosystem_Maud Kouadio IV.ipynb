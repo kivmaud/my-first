{
  "metadata": {
    "kernelspec": {
      "name": "python",
      "display_name": "Python (Pyodide)",
      "language": "python"
    },
    "language_info": {
      "codemirror_mode": {
        "name": "python",
        "version": 3
      },
      "file_extension": ".py",
      "mimetype": "text/x-python",
      "name": "python",
      "nbconvert_exporter": "python",
      "pygments_lexer": "ipython3",
      "version": "3.8"
    }
  },
  "nbformat_minor": 5,
  "nbformat": 4,
  "cells": [
    {
      "id": "52ee208d-0aeb-443e-b135-da5209283dd2",
      "cell_type": "markdown",
      "source": "# Data Science Tools and Ecosystem",
      "metadata": {}
    },
    {
      "id": "87c76e55-417b-456d-b11c-2248c5e2f060",
      "cell_type": "markdown",
      "source": "In this notebook, Data Science Tools and Ecosystem are summarized.",
      "metadata": {}
    },
    {
      "id": "439299ef-cc12-4a7f-be66-2899c0000925",
      "cell_type": "markdown",
      "source": "__Objectives:__\n* Summarizing Data sciencs Tools\n* Listing popular DS languages\n* Creating Table",
      "metadata": {}
    },
    {
      "id": "1883d356-c943-4aad-8fa7-4739c0ef4155",
      "cell_type": "markdown",
      "source": "Some of the popular languages that Data Scientists use are:\n1. Java\n2. Phyton\n3. R\n4. SQL",
      "metadata": {}
    },
    {
      "id": "d11a77ed-b2c9-4a23-a267-141f5c55260c",
      "cell_type": "markdown",
      "source": "Some of the commonly used libraries used by Data Scientists include:\n1. NumPy\n2. SciPy\n3. Pandas",
      "metadata": {
        "jupyter": {
          "source_hidden": true
        }
      }
    },
    {
      "id": "aed7260a-b7f6-438e-ba97-4f6be0a70fea",
      "cell_type": "markdown",
      "source": "| Data Science Tools |\n| ------------------ |\n| Jupyter |\n| Apache Hadoop |\n| Apache Spark |",
      "metadata": {}
    },
    {
      "id": "f119fe6d-5b9b-40c4-8957-8102f2f6bf1f",
      "cell_type": "markdown",
      "source": "### Below are a few examples of evaluating arithmetic expressions in Python",
      "metadata": {}
    },
    {
      "id": "d2f2d6a7-06fa-43aa-8f3c-da9f0c2c7a34",
      "cell_type": "code",
      "source": "# evaluate the expression \n(3*4)+5",
      "metadata": {},
      "outputs": [
        {
          "data": {
            "text/plain": [
              "17"
            ]
          },
          "execution_count": 82,
          "metadata": {},
          "output_type": "execute_result"
        }
      ],
      "execution_count": 82
    },
    {
      "id": "e459deac-bf11-4995-8a48-6a1de9c0f25b",
      "cell_type": "code",
      "source": "# This will convert 200 minutes to hours by diving by 60\n\n200/60",
      "metadata": {},
      "outputs": [
        {
          "data": {
            "text/plain": [
              "3.3333333333333335"
            ]
          },
          "execution_count": 86,
          "metadata": {},
          "output_type": "execute_result"
        }
      ],
      "execution_count": 86
    },
    {
      "id": "31228749-b405-4fe9-8877-d1610d13f6ae",
      "cell_type": "markdown",
      "source": "## Author\nMaud Kouadio IV",
      "metadata": {}
    },
    {
      "id": "70d127cf-ca9c-4944-a379-b83ec1c0c10a",
      "cell_type": "code",
      "source": "",
      "metadata": {},
      "outputs": [],
      "execution_count": null
    },
    {
      "id": "99f91083-742a-4bb2-80e6-e2b0fd876875",
      "cell_type": "code",
      "source": "",
      "metadata": {
        "trusted": true
      },
      "outputs": [],
      "execution_count": null
    }
  ]
}